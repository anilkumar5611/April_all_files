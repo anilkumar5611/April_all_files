{
 "cells": [
  {
   "cell_type": "code",
   "execution_count": 1,
   "id": "3da64a8b",
   "metadata": {},
   "outputs": [],
   "source": [
    "import pandas as pd\n",
    "import numpy as np\n",
    "import seaborn as sns\n",
    "import matplotlib.pyplot as plt"
   ]
  },
  {
   "cell_type": "code",
   "execution_count": 2,
   "id": "76af171b",
   "metadata": {},
   "outputs": [],
   "source": [
    "## Let's Create synthitic data points\n",
    "from sklearn.datasets import make_regression\n"
   ]
  },
  {
   "cell_type": "code",
   "execution_count": 3,
   "id": "244919c6",
   "metadata": {},
   "outputs": [],
   "source": [
    "x,y=make_regression(n_samples=1000,n_features=2,n_targets=1,noise=3.0)"
   ]
  },
  {
   "cell_type": "code",
   "execution_count": 4,
   "id": "e5e1bb38",
   "metadata": {},
   "outputs": [],
   "source": [
    "x"
   ]
  },
  {
   "cell_type": "code",
   "execution_count": 5,
   "id": "0801ba55",
   "metadata": {},
   "outputs": [],
   "source": [
    "y"
   ]
  },
  {
   "cell_type": "code",
   "execution_count": 6,
   "id": "5e2e6f8f",
   "metadata": {},
   "outputs": [],
   "source": [
    "pd.DataFrame(x)[0]"
   ]
  },
  {
   "cell_type": "code",
   "execution_count": 7,
   "id": "21d1336c",
   "metadata": {},
   "outputs": [],
   "source": [
    "sns.scatterplot(x=pd.DataFrame(x)[0],y=pd.DataFrame(x)[1],hue=y)"
   ]
  },
  {
   "cell_type": "code",
   "execution_count": 8,
   "id": "c83521ca",
   "metadata": {},
   "outputs": [],
   "source": [
    "from sklearn.model_selection import train_test_split\n",
    "x_train,x_test,y_train,y_test=train_test_split(x,y,test_size=0.25,random_state=10)"
   ]
  },
  {
   "cell_type": "code",
   "execution_count": 9,
   "id": "662ef472",
   "metadata": {},
   "outputs": [],
   "source": [
    "from sklearn.svm import SVR"
   ]
  },
  {
   "cell_type": "code",
   "execution_count": 10,
   "id": "e11c3380",
   "metadata": {},
   "outputs": [],
   "source": [
    "svr=SVR(kernel='linear')"
   ]
  },
  {
   "cell_type": "code",
   "execution_count": 11,
   "id": "7fe8737e",
   "metadata": {},
   "outputs": [],
   "source": [
    "svr.fit(x_train,y_train)"
   ]
  },
  {
   "cell_type": "code",
   "execution_count": 12,
   "id": "befa31bc",
   "metadata": {},
   "outputs": [],
   "source": [
    "svr.coef_"
   ]
  },
  {
   "cell_type": "code",
   "execution_count": 13,
   "id": "df58680f",
   "metadata": {},
   "outputs": [],
   "source": [
    "## prediction\n",
    "y_pred=svr.predict(x_test)"
   ]
  },
  {
   "cell_type": "code",
   "execution_count": 14,
   "id": "6c17f7fb",
   "metadata": {},
   "outputs": [],
   "source": [
    "y_pred"
   ]
  },
  {
   "cell_type": "code",
   "execution_count": 15,
   "id": "f30ef202",
   "metadata": {},
   "outputs": [],
   "source": [
    "from sklearn.metrics import r2_score"
   ]
  },
  {
   "cell_type": "code",
   "execution_count": 16,
   "id": "a17573c1",
   "metadata": {},
   "outputs": [],
   "source": [
    "print(r2_score(y_test,y_pred))"
   ]
  },
  {
   "cell_type": "markdown",
   "id": "ae09cd77",
   "metadata": {},
   "source": [
    "## Hyperparameter tunning with SVR\n"
   ]
  },
  {
   "cell_type": "code",
   "execution_count": 17,
   "id": "649dde43",
   "metadata": {},
   "outputs": [],
   "source": [
    "from sklearn.model_selection import GridSearchCV\n",
    "\n",
    "#defining the paramter range\n",
    "param_grid={'C':[0.1,1,10,100,1000],\n",
    "            'gama':[1,0.1,0.01,0.001,0.0001],\n",
    "            'kernel':['linear'],\n",
    "            'epsilon':[0.1,0.2,0.3]\n",
    "            \n",
    "    \n",
    "}"
   ]
  },
  {
   "cell_type": "code",
   "execution_count": 18,
   "id": "393db745",
   "metadata": {},
   "outputs": [],
   "source": [
    "grid=GridSearchCV(SVR(),param_grid=param_grid,refit=True,cv=5,verbose=3)"
   ]
  },
  {
   "cell_type": "code",
   "execution_count": 19,
   "id": "b4cd9680",
   "metadata": {},
   "outputs": [],
   "source": [
    "grid.fit(x_train,y_train)"
   ]
  },
  {
   "cell_type": "code",
   "execution_count": 21,
   "id": "f0342d9b",
   "metadata": {},
   "outputs": [],
   "source": [
    "grid.best_params_"
   ]
  },
  {
   "cell_type": "code",
   "execution_count": 20,
   "id": "fee7c9f2",
   "metadata": {},
   "outputs": [],
   "source": [
    "# prediction\n",
    "y_pred4=grid.predict(x_test)\n"
   ]
  },
  {
   "cell_type": "code",
   "execution_count": null,
   "id": "a3ba659b",
   "metadata": {},
   "outputs": [],
   "source": []
  }
 ],
 "metadata": {
  "kernelspec": {
   "display_name": "Python 3 (ipykernel)",
   "language": "python",
   "name": "python3"
  },
  "language_info": {
   "codemirror_mode": {
    "name": "ipython",
    "version": 3
   },
   "file_extension": ".py",
   "mimetype": "text/x-python",
   "name": "python",
   "nbconvert_exporter": "python",
   "pygments_lexer": "ipython3",
   "version": "3.11.2"
  }
 },
 "nbformat": 4,
 "nbformat_minor": 5
}
