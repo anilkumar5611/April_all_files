{
 "cells": [
  {
   "cell_type": "code",
   "execution_count": 1,
   "id": "9a5c0115",
   "metadata": {},
   "outputs": [],
   "source": [
    "data=[7,3,6,8,10,2,5,4,9,1,2,3,11,12,-10,-15,25,30,40,50]"
   ]
  },
  {
   "cell_type": "code",
   "execution_count": 2,
   "id": "3e9583b3",
   "metadata": {},
   "outputs": [],
   "source": [
    "#sorting"
   ]
  },
  {
   "cell_type": "code",
   "execution_count": 3,
   "id": "d43fa0d7",
   "metadata": {},
   "outputs": [],
   "source": [
    "import numpy as np"
   ]
  },
  {
   "cell_type": "code",
   "execution_count": 4,
   "id": "76af1309",
   "metadata": {},
   "outputs": [],
   "source": [
    "x=np.sort(data)"
   ]
  },
  {
   "cell_type": "code",
   "execution_count": 6,
   "id": "7bb75738",
   "metadata": {},
   "outputs": [
    {
     "name": "stdout",
     "output_type": "stream",
     "text": [
      "sort data: [-15 -10   1   2   2   3   3   4   5   6   7   8   9  10  11  12  25  30\n",
      "  40  50]\n"
     ]
    }
   ],
   "source": [
    "print(\"sort data:\", x)"
   ]
  },
  {
   "cell_type": "code",
   "execution_count": 8,
   "id": "a6ff55c1",
   "metadata": {},
   "outputs": [],
   "source": [
    "# median\n",
    "q2=np.median(x)"
   ]
  },
  {
   "cell_type": "code",
   "execution_count": 9,
   "id": "6eea63d6",
   "metadata": {},
   "outputs": [
    {
     "name": "stdout",
     "output_type": "stream",
     "text": [
      "median or q2: 6.5\n"
     ]
    }
   ],
   "source": [
    "print(\"median or q2:\",q2)"
   ]
  },
  {
   "cell_type": "code",
   "execution_count": 10,
   "id": "a126bd55",
   "metadata": {},
   "outputs": [],
   "source": [
    "#calculate interquartile range(IQR)"
   ]
  },
  {
   "cell_type": "code",
   "execution_count": 12,
   "id": "cffc1b09",
   "metadata": {},
   "outputs": [],
   "source": [
    "q1,q3=np.percentile(x,[25,75])\n",
    "iqr=q3-q1"
   ]
  },
  {
   "cell_type": "code",
   "execution_count": 13,
   "id": "b5c13107",
   "metadata": {},
   "outputs": [
    {
     "name": "stdout",
     "output_type": "stream",
     "text": [
      "q1: 2.75\n",
      "q3: 11.25\n",
      "iqr: 8.5\n"
     ]
    }
   ],
   "source": [
    "print(\"q1:\",q1)\n",
    "print(\"q3:\",q3)\n",
    "print(\"iqr:\",iqr)"
   ]
  },
  {
   "cell_type": "code",
   "execution_count": 14,
   "id": "22cf654d",
   "metadata": {},
   "outputs": [
    {
     "name": "stdout",
     "output_type": "stream",
     "text": [
      "lover bound: -10.0\n",
      "upper bound: 24.0\n"
     ]
    }
   ],
   "source": [
    "lover_bound=q1-1.5*iqr\n",
    "upper_bound=q3+1.5*iqr\n",
    "print(\"lover bound:\",lover_bound)\n",
    "print(\"upper bound:\",upper_bound)"
   ]
  },
  {
   "cell_type": "code",
   "execution_count": 15,
   "id": "542cb2b2",
   "metadata": {},
   "outputs": [],
   "source": [
    "#identify the outliers"
   ]
  },
  {
   "cell_type": "code",
   "execution_count": 16,
   "id": "9c912177",
   "metadata": {},
   "outputs": [],
   "source": [
    "outliers=[val for val in x if val <lover_bound or val> upper_bound]"
   ]
  },
  {
   "cell_type": "code",
   "execution_count": 18,
   "id": "6dda2a21",
   "metadata": {},
   "outputs": [],
   "source": [
    "#Alternateve method"
   ]
  },
  {
   "cell_type": "code",
   "execution_count": 19,
   "id": "2b3d6a13",
   "metadata": {},
   "outputs": [],
   "source": [
    "outlier=[]\n",
    "for i in x:\n",
    "    if i <lover_bound or i>upper_bound:\n",
    "        outlier.append(i)"
   ]
  },
  {
   "cell_type": "code",
   "execution_count": 20,
   "id": "83298dab",
   "metadata": {},
   "outputs": [
    {
     "data": {
      "text/plain": [
       "[-15, 25, 30, 40, 50]"
      ]
     },
     "execution_count": 20,
     "metadata": {},
     "output_type": "execute_result"
    }
   ],
   "source": [
    "outlier"
   ]
  },
  {
   "cell_type": "code",
   "execution_count": 23,
   "id": "6e1a90b1",
   "metadata": {},
   "outputs": [],
   "source": [
    "#remove otlier from x\n",
    "new_x=[val for val in x if val >=lover_bound and val<= upper_bound]"
   ]
  },
  {
   "cell_type": "code",
   "execution_count": 24,
   "id": "68785ad9",
   "metadata": {},
   "outputs": [
    {
     "data": {
      "text/plain": [
       "[-10, 1, 2, 2, 3, 3, 4, 5, 6, 7, 8, 9, 10, 11, 12]"
      ]
     },
     "execution_count": 24,
     "metadata": {},
     "output_type": "execute_result"
    }
   ],
   "source": [
    "new_x"
   ]
  },
  {
   "cell_type": "code",
   "execution_count": 25,
   "id": "e4f08e79",
   "metadata": {},
   "outputs": [
    {
     "data": {
      "text/plain": [
       "<Axes: >"
      ]
     },
     "execution_count": 25,
     "metadata": {},
     "output_type": "execute_result"
    },
    {
     "data": {
      "image/png": "[encoded data removed]",
      "text/plain": [
       "<Figure size 640x480 with 1 Axes>"
      ]
     },
     "metadata": {},
     "output_type": "display_data"
    }
   ],
   "source": [
    "#box plot\n",
    "import seaborn as sns\n",
    "sns.boxplot(x)"
   ]
  },
  {
   "cell_type": "code",
   "execution_count": 26,
   "id": "60f6ea72",
   "metadata": {},
   "outputs": [
    {
     "data": {
      "text/plain": [
       "<Axes: >"
      ]
     },
     "execution_count": 26,
     "metadata": {},
     "output_type": "execute_result"
    },
    {
     "data": {
      "image/png": "[encoded data removed]",
      "text/plain": [
       "<Figure size 640x480 with 1 Axes>"
      ]
     },
     "metadata": {},
     "output_type": "display_data"
    }
   ],
   "source": [
    "#box plot\n",
    "import seaborn as sns\n",
    "sns.boxplot(new_x)"
   ]
  },
  {
   "cell_type": "code",
   "execution_count": null,
   "id": "333a0152",
   "metadata": {},
   "outputs": [],
   "source": []
  }
 ],
 "metadata": {
  "kernelspec": {
   "display_name": "Python 3 (ipykernel)",
   "language": "python",
   "name": "python3"
  },
  "language_info": {
   "codemirror_mode": {
    "name": "ipython",
    "version": 3
   },
   "file_extension": ".py",
   "mimetype": "text/x-python",
   "name": "python",
   "nbconvert_exporter": "python",
   "pygments_lexer": "ipython3",
   "version": "3.11.2"
  }
 },
 "nbformat": 4,
 "nbformat_minor": 5
}
